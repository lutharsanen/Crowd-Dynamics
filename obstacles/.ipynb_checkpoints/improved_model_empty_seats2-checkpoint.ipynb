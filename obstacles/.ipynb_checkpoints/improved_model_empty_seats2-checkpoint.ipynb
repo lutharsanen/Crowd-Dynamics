{
 "cells": [
  {
   "cell_type": "code",
   "execution_count": null,
   "metadata": {},
   "outputs": [],
   "source": [
    "# Make sure that you have the following installed on your machine to view interactive plots in jupyter lab\n",
    "# https://github.com/matplotlib/ipympl#installation\n",
    "# run \n",
    "#pip install ipympl\n",
    "#jupyter labextension install @jupyter-widgets/jupyterlab-manager\n",
    "#jupyter lab build"
   ]
  },
  {
   "cell_type": "code",
   "execution_count": 2,
   "metadata": {},
   "outputs": [],
   "source": [
    "%matplotlib inline"
   ]
  },
  {
   "cell_type": "code",
   "execution_count": 3,
   "metadata": {},
   "outputs": [],
   "source": [
    "import math as m\n",
    "import numpy as np\n",
    "import matplotlib.pyplot as plt\n",
    "import matplotlib.animation as animation\n",
    "from matplotlib.animation import writers"
   ]
  },
  {
   "cell_type": "code",
   "execution_count": 4,
   "metadata": {},
   "outputs": [],
   "source": [
    "def calculate_weights(rows, cols, R):\n",
    "\n",
    "    # dummy array to easily loop over coordinates\n",
    "    agents = np.zeros((rows, cols))\n",
    "    \n",
    "    # for each agent store the distances to all other nodes\n",
    "    distances = np.zeros((rows, cols, rows, cols))\n",
    "\n",
    "    for i1, agent1 in np.ndenumerate(agents):\n",
    "        x_coord_self = i1[1]\n",
    "        y_coord_self = i1[0]\n",
    "\n",
    "        for i2, agent2 in np.ndenumerate(agents):\n",
    "            x_coord_1 = i2[1]\n",
    "            x_coord_2 = i2[1]-cols\n",
    "            y_coord = i2[0]\n",
    "\n",
    "            distance_1 = np.sqrt((x_coord_1 - x_coord_self)**2 + (y_coord - y_coord_self)**2)\n",
    "            distance_2 = np.sqrt((x_coord_2 - x_coord_self)**2 + (y_coord - y_coord_self)**2)\n",
    "            distances[y_coord_self][x_coord_self][y_coord][x_coord_1] = np.min([distance_1,distance_2])\n",
    "    \n",
    "    # print(distances[2][1])\n",
    "\n",
    "\n",
    "    # for each agent store the angle to all of its neighbors\n",
    "    angles = np.zeros((rows, cols, rows, cols))\n",
    "\n",
    "    for i1, agent1 in np.ndenumerate(agents):\n",
    "        x_coord_self = i1[1]\n",
    "        y_coord_self = i1[0]\n",
    "\n",
    "        for i2, agent2 in np.ndenumerate(agents):\n",
    "            x_coord_1 = i2[1]\n",
    "            x_coord_2 = i2[1]-cols\n",
    "            \n",
    "            if x_coord_2 <= -cols/2+1:\n",
    "                x_coord = x_coord_1\n",
    "            else:\n",
    "                x_coord = x_coord_2\n",
    "            y_coord = i2[0]\n",
    "\n",
    "            vec_1 = (1, 0)\n",
    "            vec_2 = (x_coord - x_coord_self, y_coord - y_coord_self)\n",
    "\n",
    "            c = np.dot(vec_1, vec_2)/np.linalg.norm(vec_1)/np.linalg.norm(vec_2) # -> cosine of the angle\n",
    "            angle = np.arccos(np.clip(c, -1, 1)) # if you really want the angle\n",
    "            \n",
    "            angles[y_coord_self][x_coord_self][y_coord][x_coord_1] = angle\n",
    "    \n",
    "    # print(angles[2][1])\n",
    "\n",
    "\n",
    "    # for each agent store the impact (weight) that all other nodes have on it.\n",
    "    weights = np.zeros((rows, cols, rows, cols))\n",
    "\n",
    "    for i1, agent1 in np.ndenumerate(agents):\n",
    "        x_coord_self = i1[1]\n",
    "        y_coord_self = i1[0]\n",
    "\n",
    "        for i2, agent2 in np.ndenumerate(agents):\n",
    "            x_coord = i2[1]\n",
    "            y_coord = i2[0]\n",
    "\n",
    "            distance = distances[y_coord_self][x_coord_self][y_coord][x_coord]\n",
    "            angle = angles[y_coord_self][x_coord_self][y_coord][x_coord]\n",
    "\n",
    "            weight = np.exp(- distance / R) * (1 + w + (1 - w) * np.cos(np.pi - angle))\n",
    "\n",
    "            if distance > 3*R or distance < 0:\n",
    "                weight = 0\n",
    "\n",
    "            weights[y_coord_self][x_coord_self][y_coord][x_coord] = weight\n",
    "\n",
    "        # normalize the weights so that the sum is equal to 1\n",
    "        # before we can sum up all the weights for each agent, we have to make sure that there is no more nan in the data. nan was always the agent in focus, so it should be 0 that the agent does not influence himself.\n",
    "        weights[np.isnan(weights)] = 0\n",
    "        # K is normalizing factor\n",
    "        K = np.sum(weights[y_coord_self][x_coord_self])\n",
    "        weights[y_coord_self][x_coord_self] = np.divide(weights[y_coord_self][x_coord_self], K)\n",
    "        \n",
    "        \n",
    "    # print(weights[2][1])\n",
    "    \n",
    "    return weights\n"
   ]
  },
  {
   "cell_type": "code",
   "execution_count": 17,
   "metadata": {},
   "outputs": [],
   "source": [
    "def set_next_state(agents, weights):\n",
    "    \n",
    "    # loop over all agents and calcualte the weighted amount of people in active state that impact this agent\n",
    "    for i1, agent1 in np.ndenumerate(agents):\n",
    "        \n",
    "        x_coord_self = i1[1]\n",
    "        y_coord_self = i1[0]\n",
    "        \n",
    "        weights_agents = weights[y_coord_self, x_coord_self]\n",
    "    \n",
    "        state = agent1['state']\n",
    "        substate = agent1['substate']\n",
    "        threshold = agent1['threshold']\n",
    "        \n",
    "        if state == 1:\n",
    "            if substate < 2:\n",
    "                agent1['substate'] += 1\n",
    "            else:\n",
    "                agent1['next_state'] = 2\n",
    "                agent1['substate'] = 0\n",
    "                \n",
    "        elif state == 10:\n",
    "            pass\n",
    "        \n",
    "        elif state == 2:\n",
    "            if substate < 2:\n",
    "                agent1['substate'] += 1\n",
    "            else:\n",
    "                agent1['next_state'] = 0\n",
    "                agent1['substate'] = 0\n",
    "                \n",
    "        else:\n",
    "            # current state: 0 (inactive)\n",
    "            # calculate the probability that he becomes active\n",
    "            active_agents_weight = 0\n",
    "            \n",
    "            for i2, agent2 in np.ndenumerate(agents):\n",
    "                x_coord = i2[1]\n",
    "                y_coord = i2[0]\n",
    "                \n",
    "                # sum over all the agents in the radius that have an influence on the agent in question\n",
    "                if agent2['state'] == 1:\n",
    "                    weight = weights_agents[y_coord, x_coord]\n",
    "                    active_agents_weight += weight\n",
    "        \n",
    "            \n",
    "            if active_agents_weight > threshold:\n",
    "                # update agent to be in active state\n",
    "                agent1['next_state'] = 1\n",
    "                agent1['substate'] = 0\n",
    "\n",
    "                \n",
    "def update_state(agents):\n",
    "    for i, agent in np.ndenumerate(agents):\n",
    "        agent['state'] = agent['next_state']\n",
    "        \n",
    "def create_triangle(start, end, height_start, height_end):\n",
    "    triangle_list = []\n",
    "    while (height_start<height_end):\n",
    "        \n",
    "        if (start != end or end > start):\n",
    "            for i in range(start, end):\n",
    "                triangle_list.append((i,height_start))\n",
    "            start += 1\n",
    "            end -= 1\n",
    "            height_start += 1\n",
    "        \n",
    "        else:\n",
    "            triangle_list.append((start,height_start))\n",
    "            height_start += 1\n",
    "    return triangle_list\n",
    "        \n",
    "    \n",
    "    \n",
    "    for i in range(start, end):\n",
    "        for j in range(amplitude):\n",
    "            triangle_list.append((i,j))\n",
    "    return triangle_list\n",
    "        \n",
    "        \n",
    "\n",
    "def get_na(agents,rows, cols):\n",
    "    res_aggregate = np.zeros(cols)\n",
    "    res_state_only = np.zeros((rows, cols))\n",
    "\n",
    "    # sum all cols up\n",
    "    for index, agent in np.ndenumerate(agents):\n",
    "        y_coord = index[0]\n",
    "        x_coord = index[1]\n",
    "        state = agent['state']\n",
    "\n",
    "        res_state_only[y_coord][x_coord] = state\n",
    "\n",
    "        if state == 1:\n",
    "            res_aggregate[x_coord] += 1\n",
    "    return res_aggregate, res_state_only\n",
    "\n",
    "def get_a_max(res_aggregate):\n",
    "    return np.amax(res_aggregate, axis=1)\n",
    "        \n",
    "def run_simulation(agents, weights, rows, cols, threshold, size_triggering_group, time_steps):\n",
    "    \n",
    "    # N_a(t)\n",
    "    res_aggregate_total = []\n",
    "    res_state_only_total = []\n",
    "    \n",
    "    triangle = create_triangle(5,9,0,5)\n",
    "    \n",
    "    # initialise thresholds and states\n",
    "    for i in range(rows):\n",
    "        for j in range(cols):\n",
    "            \n",
    "            if (rows, cols) in triangle:\n",
    "                print(\"success\")\n",
    "                agents[i][j]['state'] = 10\n",
    "                agents[i][j]['substate'] = 10\n",
    "                agents[i][j]['next_state'] = 10\n",
    "                agents[i][j]['threshold'] = np.random.uniform(threshold - 0.05, threshold + 0.05)\n",
    "            \n",
    "            else:\n",
    "                agents[i][j]['state'] = 0\n",
    "                agents[i][j]['substate'] = 0\n",
    "                agents[i][j]['next_state'] = 0\n",
    "                agents[i][j]['threshold'] = np.random.uniform(threshold - 0.05, threshold + 0.05)\n",
    "\n",
    "    agents_in_row = size_triggering_group[0]\n",
    "    agents_in_col = size_triggering_group[1]\n",
    "    \n",
    "    for i in range(agents_in_row):\n",
    "        for j in range(agents_in_col):\n",
    "            agents[i + (int((rows - agents_in_col) / 2))][j+3]['state'] = 1\n",
    "            agents[i + (int((rows - agents_in_col) / 2))][j+3]['next_state'] = 1\n",
    "    \n",
    "    res_aggregate, res_state_only = get_na(agents, rows, cols)\n",
    "    \n",
    "    res_aggregate_total.append(res_aggregate)\n",
    "    res_state_only_total.append(res_state_only)\n",
    "    \n",
    "    for i in range(time_steps):\n",
    "        res_aggregate = np.zeros(cols)\n",
    "        res_state_only = np.zeros((rows, cols))\n",
    "        \n",
    "        # sum all cols up\n",
    "        for index, agent in np.ndenumerate(agents):\n",
    "            y_coord = index[0]\n",
    "            x_coord = index[1]\n",
    "            state = agent['state']\n",
    "            \n",
    "            res_state_only[y_coord][x_coord] = state\n",
    "            \n",
    "            if state == 1:\n",
    "                res_aggregate[x_coord] += 1\n",
    "                \n",
    "        set_next_state(agents, weights)\n",
    "        \n",
    "        # update all agents synchronously\n",
    "        update_state(agents)\n",
    "        \n",
    "        res_aggregate, res_state_only = get_na(agents, rows, cols)\n",
    "        \n",
    "        res_aggregate_total.append(res_aggregate)\n",
    "        res_state_only_total.append(res_state_only)\n",
    "        \n",
    "    return res_state_only_total, res_aggregate_total\n",
    "    "
   ]
  },
  {
   "cell_type": "code",
   "execution_count": 6,
   "metadata": {},
   "outputs": [
    {
     "name": "stderr",
     "output_type": "stream",
     "text": [
      "C:\\Users\\Lutharsanen\\anaconda3\\lib\\site-packages\\ipykernel_launcher.py:45: RuntimeWarning: invalid value encountered in double_scalars\n"
     ]
    }
   ],
   "source": [
    "rows = 25\n",
    "cols = 50\n",
    "\n",
    "R = 2\n",
    "# factor of how much more people to the right of a person have an influence compared to the people on the left\n",
    "w = 0.25\n",
    "\n",
    "# weights can be pre calculated as they won't change during simulation\n",
    "weights = calculate_weights(rows, cols, R)"
   ]
  },
  {
   "cell_type": "code",
   "execution_count": 18,
   "metadata": {},
   "outputs": [
    {
     "name": "stdout",
     "output_type": "stream",
     "text": [
      "0.25 (4, 4) Avg of A(t): 22.54901960784314 Std of A(t) 5.616201093720356\n"
     ]
    },
    {
     "data": {
      "image/png": "[encoded data removed]",
      "text/plain": [
       "<Figure size 432x288 with 1 Axes>"
      ]
     },
     "metadata": {
      "needs_background": "light"
     },
     "output_type": "display_data"
    }
   ],
   "source": [
    "# threshold for each agent to become active, will be randomly chosen in the interval +-0.05\n",
    "thresholds = [.25]\n",
    "# fraction of people on the two most left columns that intitiate the wave\n",
    "size_triggering_groups = [(4,4)]\n",
    "\n",
    "time_steps = 50\n",
    "\n",
    "fig = plt.figure()\n",
    "ax = fig.add_subplot(111)\n",
    "\n",
    "# animation function.  This is called sequentially\n",
    "def animate(i, res, colax):\n",
    "    colax.set_data(res[i])\n",
    "    return colax\n",
    "\n",
    "a_max_mean = np.zeros((len(thresholds), len(size_triggering_groups)))\n",
    "a_max_std = np.zeros((len(thresholds), len(size_triggering_groups)))\n",
    "\n",
    "for i1, threshold in enumerate(thresholds):\n",
    "    \n",
    "    for i2, size_triggering_group in enumerate(size_triggering_groups):\n",
    "        \n",
    "        a_max_temp_mean = []\n",
    "        a_max_temp_std = []\n",
    "\n",
    "        for i in range(1):\n",
    "            # each agent has one the following states\n",
    "            # 0: inactive\n",
    "            # 1: active\n",
    "            # 2: refracter\n",
    "            agents = np.zeros((rows, cols), dtype=[('state', np.int), ('substate', np.int), ('next_state', np.int), ('threshold', np.float)])\n",
    "\n",
    "            results = run_simulation(agents, weights, rows, cols, threshold, size_triggering_group, time_steps)\n",
    "            a_max = get_a_max(results[1])\n",
    "            a_max_temp_mean.append(np.mean(a_max))\n",
    "            a_max_temp_std.append(np.std(a_max))\n",
    "           \n",
    "            # initialize the plot (each color 0,1,2 is represented once so that the colors are also there for the next frames in the animation)\n",
    "            initial = np.zeros((rows, cols))\n",
    "            initial[0][1] = 1\n",
    "            initial[0][2] = 2\n",
    "            initial[0][10] = 10\n",
    "            cax = ax.matshow(initial)\n",
    "            \n",
    "            # call the animator\n",
    "            # blit=True means only re-draw the parts that have changed\n",
    "            anim = animation.FuncAnimation(fig, animate, fargs=(results[0], cax), frames=len(results[0]))\n",
    "            #writers.reset_available_writers()\n",
    "\n",
    "            # On windows/linux make sure to have ffmpeg installed before running this cell\n",
    "            # https://ffmpeg.org/\n",
    "            # on a mac you can simply use brew to install: brew install ffmpeg\n",
    "            anim.save('animations/laOla-' + str(threshold) + '-' + str(size_triggering_group[0] * size_triggering_group[1]) + '-version' + str(i) +'.mp4', writer=\"ffmpeg\", fps=5)\n",
    "        \n",
    "        mean_of_a_max_temp_mean = np.mean(a_max_temp_mean)\n",
    "        mean_of_a_max_temp_std = np.mean(a_max_temp_std)\n",
    "        print(threshold, size_triggering_group, 'Avg of A(t):', mean_of_a_max_temp_mean, 'Std of A(t)', mean_of_a_max_temp_std)\n",
    "        a_max_mean[i1][i2] = mean_of_a_max_temp_mean\n",
    "        a_max_std[i1][i2] = mean_of_a_max_temp_std"
   ]
  },
  {
   "cell_type": "code",
   "execution_count": 8,
   "metadata": {},
   "outputs": [],
   "source": [
    "np.save('a_max_mean.npy', a_max_mean)\n",
    "np.save('a_max_std.npy', a_max_std)"
   ]
  },
  {
   "cell_type": "code",
   "execution_count": 10,
   "metadata": {},
   "outputs": [
    {
     "data": {
      "image/png": "[encoded data removed]",
      "text/plain": [
       "<Figure size 432x288 with 1 Axes>"
      ]
     },
     "metadata": {
      "needs_background": "light"
     },
     "output_type": "display_data"
    }
   ],
   "source": [
    "from mpl_toolkits.mplot3d import Axes3D\n",
    "\n",
    "threshold_plot = [[threshold] * len(size_triggering_groups) for threshold in thresholds]\n",
    "triggering_groups_plot = [group[0] * group[1] for group in size_triggering_groups] * len(thresholds)\n",
    "\n",
    "fig = plt.figure() \n",
    "wf = fig.add_subplot(111, projection='3d') \n",
    "\n",
    "wf.plot_wireframe(triggering_groups_plot, threshold_plot, a_max_mean, rstride=1, cstride=1) \n",
    "plt.savefig('result_plot_mean.pdf')\n",
    "plt.show() \n"
   ]
  },
  {
   "cell_type": "code",
   "execution_count": 12,
   "metadata": {},
   "outputs": [
    {
     "data": {
      "image/png": "[encoded data removed]",
      "text/plain": [
       "<Figure size 432x288 with 1 Axes>"
      ]
     },
     "metadata": {
      "needs_background": "light"
     },
     "output_type": "display_data"
    }
   ],
   "source": [
    "from mpl_toolkits.mplot3d import Axes3D\n",
    "\n",
    "threshold_plot = [[threshold] * len(size_triggering_groups) for threshold in thresholds]\n",
    "triggering_groups_plot = [group[0] * group[1] for group in size_triggering_groups] * len(thresholds)\n",
    "\n",
    "fig = plt.figure() \n",
    "wf = fig.add_subplot(111, projection='3d') \n",
    "\n",
    "wf.plot_wireframe(triggering_groups_plot, threshold_plot, a_max_std, rstride=1, cstride=1) \n",
    "plt.savefig('result_plot_std.pdf')\n",
    "plt.show() "
   ]
  },
  {
   "cell_type": "code",
   "execution_count": 14,
   "metadata": {},
   "outputs": [],
   "source": [
    "triangle = create_triangle(2,7,0,5)"
   ]
  },
  {
   "cell_type": "code",
   "execution_count": 15,
   "metadata": {},
   "outputs": [
    {
     "data": {
      "text/plain": [
       "[(2, 0), (3, 0), (4, 0), (5, 0), (6, 0), (3, 1), (4, 1), (5, 1), (4, 2)]"
      ]
     },
     "execution_count": 15,
     "metadata": {},
     "output_type": "execute_result"
    }
   ],
   "source": [
    "triangle"
   ]
  },
  {
   "cell_type": "code",
   "execution_count": 20,
   "metadata": {},
   "outputs": [
    {
     "name": "stdout",
     "output_type": "stream",
     "text": [
      "hello\n",
      "hello\n",
      "hello\n",
      "hello\n",
      "hello\n",
      "hello\n",
      "hello\n",
      "hello\n",
      "hello\n"
     ]
    }
   ],
   "source": [
    "for i in range(7):\n",
    "    for j in range(6):\n",
    "        if (i,j) in triangle:\n",
    "            print(\"hello\")"
   ]
  }
 ],
 "metadata": {
  "kernelspec": {
   "display_name": "Python 3",
   "language": "python",
   "name": "python3"
  },
  "language_info": {
   "codemirror_mode": {
    "name": "ipython",
    "version": 3
   },
   "file_extension": ".py",
   "mimetype": "text/x-python",
   "name": "python",
   "nbconvert_exporter": "python",
   "pygments_lexer": "ipython3",
   "version": "3.7.6"
  }
 },
 "nbformat": 4,
 "nbformat_minor": 4
}
