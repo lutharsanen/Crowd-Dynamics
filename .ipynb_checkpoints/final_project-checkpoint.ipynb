{
 "cells": [
  {
   "cell_type": "code",
   "execution_count": 24,
   "metadata": {},
   "outputs": [],
   "source": [
    "# Make sure that you have the following installed on your machine to view interactive plots in jupyter lab\n",
    "# https://github.com/matplotlib/ipympl#installation\n",
    "# run \n",
    "#pip install ipympl\n",
    "#jupyter labextension install @jupyter-widgets/jupyterlab-manager\n",
    "#jupyter lab build"
   ]
  },
  {
   "cell_type": "code",
   "execution_count": 25,
   "metadata": {},
   "outputs": [],
   "source": [
    "%matplotlib widget"
   ]
  },
  {
   "cell_type": "code",
   "execution_count": 26,
   "metadata": {},
   "outputs": [],
   "source": [
    "import math as m\n",
    "import numpy as np\n",
    "import matplotlib.pyplot as plt\n",
    "import matplotlib.animation as animation"
   ]
  },
  {
   "cell_type": "code",
   "execution_count": 27,
   "metadata": {},
   "outputs": [],
   "source": [
    "def calculate_weights(rows, cols, agents, R):\n",
    "\n",
    "    # for each agent store the distances to all other nodes\n",
    "    distances = np.zeros((rows, cols, rows, cols))\n",
    "\n",
    "    for i1, agent1 in np.ndenumerate(agents):\n",
    "        x_coord_self = i1[1]\n",
    "        y_coord_self = i1[0]\n",
    "\n",
    "        for i2, agent2 in np.ndenumerate(agents):\n",
    "            x_coord = i2[1]\n",
    "            y_coord = i2[0]\n",
    "\n",
    "            distance = np.sqrt((x_coord - x_coord_self)**2 + (y_coord - y_coord_self)**2)\n",
    "            distances[y_coord_self][x_coord_self][y_coord][x_coord] = distance\n",
    "    \n",
    "    #print(distances[2][2])\n",
    "\n",
    "\n",
    "\n",
    "    # for each agent store the angle to all of its neighbors\n",
    "    angles = np.zeros((rows, cols, rows, cols))\n",
    "\n",
    "    for i1, agent1 in np.ndenumerate(agents):\n",
    "        x_coord_self = i1[1]\n",
    "        y_coord_self = i1[0]\n",
    "\n",
    "        for i2, agent2 in np.ndenumerate(agents):\n",
    "            x_coord = i2[1]\n",
    "            y_coord = i2[0]\n",
    "\n",
    "            vec_1 = (1, 0)\n",
    "            vec_2 = (x_coord - x_coord_self, y_coord - y_coord_self)\n",
    "\n",
    "            c = np.dot(vec_1, vec_2)/np.linalg.norm(vec_1)/np.linalg.norm(vec_2) # -> cosine of the angle\n",
    "            angle = np.arccos(np.clip(c, -1, 1)) # if you really want the angle\n",
    "\n",
    "            angles[y_coord_self][x_coord_self][y_coord][x_coord] = angle\n",
    "    \n",
    "    #print(angles[2][2])\n",
    "\n",
    "\n",
    "\n",
    "    # for each agent store the impact (weight) that all other nodes have on it.\n",
    "    weights = np.zeros((rows, cols, rows, cols))\n",
    "\n",
    "    for i1, agent1 in np.ndenumerate(agents):\n",
    "        x_coord_self = i1[1]\n",
    "        y_coord_self = i1[0]\n",
    "\n",
    "        for i2, agent2 in np.ndenumerate(agents):\n",
    "            x_coord = i2[1]\n",
    "            y_coord = i2[0]\n",
    "\n",
    "            distance = distances[y_coord_self][x_coord_self][y_coord][x_coord]\n",
    "            angle = angles[y_coord_self][x_coord_self][y_coord][x_coord]\n",
    "\n",
    "            weight = np.exp(- distance / R) * (1 + w + (1 - w) * np.cos(np.pi - angle))\n",
    "\n",
    "            if distance > 3*R or distance < 0:\n",
    "                weight = 0\n",
    "\n",
    "            weights[y_coord_self][x_coord_self][y_coord][x_coord] = weight\n",
    "\n",
    "        # normalize the weights so that the sum is equal to 1\n",
    "        # before we can sum up all the weights for each agent, we have to make sure that there is no more nan in the data. nan was always the agent in focus, so it should be 0 that the agent does not influence himself.\n",
    "        weights[np.isnan(weights)] = 0\n",
    "        # K is normalizing factor\n",
    "        K = np.sum(weights[y_coord_self][x_coord_self])\n",
    "        weights[y_coord_self][x_coord_self] = np.divide(weights[y_coord_self][x_coord_self], K)\n",
    "        \n",
    "    #print(weights[2][2])\n",
    "    \n",
    "    return weights\n"
   ]
  },
  {
   "cell_type": "code",
   "execution_count": 28,
   "metadata": {},
   "outputs": [],
   "source": [
    "def set_next_state(agents, weights):\n",
    "    \n",
    "    # loop over all agents and calcualte the weighted amount of people in active state that impact this agent\n",
    "    for i1, agent1 in np.ndenumerate(agents):\n",
    "        \n",
    "        x_coord_self = i1[1]\n",
    "        y_coord_self = i1[0]\n",
    "        \n",
    "        weights_agents = weights[y_coord_self, x_coord_self]\n",
    "    \n",
    "        state = agent1['state']\n",
    "        threshold = agent1['threshold']\n",
    "        \n",
    "        if state == 1:\n",
    "            if np.random.random() < p_1_2:\n",
    "                # active state -> refracter state\n",
    "                agent1['next_state'] = 2\n",
    "        \n",
    "        elif state == 2:\n",
    "            if np.random.random() < p_2_0:\n",
    "                # refracter state -> inactive state\n",
    "                agent1['next_state'] = 0\n",
    "        \n",
    "        else:\n",
    "            # current state: 0 (inactive)\n",
    "            # calculate the probability that he becomes active\n",
    "            active_agents_weight = 0\n",
    "            \n",
    "            for i2, agent2 in np.ndenumerate(agents):\n",
    "                x_coord = i2[1]\n",
    "                y_coord = i2[0]\n",
    "                \n",
    "                # sum over all the agents in the radius that have an influence on the agent in question\n",
    "                if agent2['state'] == 1:\n",
    "                    weight = weights_agents[y_coord, x_coord]\n",
    "                    active_agents_weight += weight\n",
    "        \n",
    "            \n",
    "            if active_agents_weight > threshold:\n",
    "                # update agent to be in active state\n",
    "                agent1['next_state'] = 1\n",
    "\n",
    "                \n",
    "def update_state(agents):\n",
    "    for i, agent in np.ndenumerate(agents):\n",
    "        agent['state'] = agent['next_state']\n",
    "\n",
    "        \n",
    "def run_simulation(agents, weights, rows, cols, thresholds, p_1_2, p_2_0, p_initial, time_steps):\n",
    "    \n",
    "    res = []\n",
    "\n",
    "    # initialise thresholds and states\n",
    "    for i in range(rows):\n",
    "        for j in range(cols):\n",
    "            agents[i][j]['state'] = 0\n",
    "            agents[i][j]['next_state'] = 0\n",
    "            # seems very unlikely for a la Ola to happen if the values are distributed in [0,1]\n",
    "            # trying other intervals could be interesting\n",
    "            agents[i][j]['threshold'] = np.random.uniform(thresholds[0], thresholds[1])\n",
    "            \n",
    "            if j == 0 or j == 1:\n",
    "                # people on the first two columns try to initialize the wave\n",
    "                if np.random.random() < p_initial:\n",
    "                    agents[i][j]['state'] = 1\n",
    "                    agents[i][j]['next_state'] = 1\n",
    "            \n",
    "            \n",
    "    for i in range(time_steps):\n",
    "        aggregate = np.zeros(cols)\n",
    "        # sum all cols up\n",
    "        for index, agent in np.ndenumerate(agents):\n",
    "            y_coord = index[0]\n",
    "            x_coord = index[1]\n",
    "            state = agent['state']\n",
    "            \n",
    "            if state == 1:\n",
    "                aggregate[x_coord] += 1\n",
    "                \n",
    "        set_next_state(agents, weights)\n",
    "        \n",
    "        # update all agents synchronously\n",
    "        update_state(agents)\n",
    "        res.append(aggregate)\n",
    "    \n",
    "    return res\n",
    "    "
   ]
  },
  {
   "cell_type": "code",
   "execution_count": 29,
   "metadata": {},
   "outputs": [
    {
     "name": "stderr",
     "output_type": "stream",
     "text": [
      "C:\\Users\\Lutharsanen\\anaconda3\\envs\\networkscience\\lib\\site-packages\\ipykernel_launcher.py:35: RuntimeWarning: invalid value encountered in double_scalars\n"
     ]
    }
   ],
   "source": [
    "rows = 10\n",
    "cols = 25\n",
    "\n",
    "R = 2\n",
    "# factor of how much more people to the right of a person have an influence compared to the people on the left\n",
    "w = 0.25\n",
    "\n",
    "# each agent has one the following states\n",
    "# 0: inactive\n",
    "# 1: active\n",
    "# 2: refracter\n",
    "agents = np.zeros((rows, cols), dtype=[('state', np.int), ('next_state', np.int), ('threshold', np.float)])\n",
    "# weights can be pre calculated as they won't change during simulation\n",
    "weights = calculate_weights(rows, cols, agents, R)"
   ]
  },
  {
   "cell_type": "code",
   "execution_count": 30,
   "metadata": {},
   "outputs": [
    {
     "data": {
      "application/vnd.jupyter.widget-view+json": {
       "model_id": "8c4f74b4342444b48e75dc44ee631d6a",
       "version_major": 2,
       "version_minor": 0
      },
      "text/plain": [
       "Canvas(toolbar=Toolbar(toolitems=[('Home', 'Reset original view', 'home', 'home'), ('Back', 'Back to previous …"
      ]
     },
     "metadata": {},
     "output_type": "display_data"
    }
   ],
   "source": [
    "thresholds = .25, .35\n",
    "# probability of changing from active state to refracter\n",
    "p_1_2 = 0.4\n",
    "# probability of changing from refracter state to inactive\n",
    "p_2_0 = 0.3\n",
    "# fraction of people on the two most left columns that intitiate the wave\n",
    "p_initial = .75\n",
    "\n",
    "\n",
    "time_steps = 20\n",
    "\n",
    "# 'res' this is an array with all active agents summed per column, so this is a 1D-Array with the numbers of active agents in each column\n",
    "res = run_simulation(agents, weights, rows, cols, thresholds, p_1_2, p_2_0, p_initial, time_steps)\n",
    "\n",
    "# First set up the figure, the axis, and the plot element we want to animate\n",
    "fig = plt.figure(0)\n",
    "ax = plt.axes(xlim=(0, cols), ylim=(0, rows))\n",
    "line, = ax.plot([], [], lw=2)\n",
    "\n",
    "index = 0\n",
    "\n",
    "# initialization function: plot the background of each frame\n",
    "def init():\n",
    "    line.set_data([], [])\n",
    "    return line,\n",
    "\n",
    "# animation function.  This is called sequentially\n",
    "def animate(i):\n",
    "    x = np.linspace(0, cols-1, cols)\n",
    "    y = res[i]\n",
    "    line.set_data(x, y)\n",
    "    return line,\n",
    "\n",
    "# call the animator.  \n",
    "# blit=True means only re-draw the parts that have changed.\n",
    "anim = animation.FuncAnimation(fig, animate, init_func=init, frames=time_steps, blit=True, interval=1000, cache_frame_data=False)"
   ]
  },
  {
   "cell_type": "code",
   "execution_count": 31,
   "metadata": {},
   "outputs": [],
   "source": [
    "four = np.fft.fft(res)\n",
    "timevariable = [i for i in range(time_steps)]"
   ]
  },
  {
   "cell_type": "code",
   "execution_count": 32,
   "metadata": {},
   "outputs": [
    {
     "data": {
      "application/vnd.jupyter.widget-view+json": {
       "model_id": "030b7cc76ae34416aa6dc7aa3c878c6f",
       "version_major": 2,
       "version_minor": 0
      },
      "text/plain": [
       "Canvas(toolbar=Toolbar(toolitems=[('Home', 'Reset original view', 'home', 'home'), ('Back', 'Back to previous …"
      ]
     },
     "metadata": {},
     "output_type": "display_data"
    },
    {
     "name": "stderr",
     "output_type": "stream",
     "text": [
      "C:\\Users\\Lutharsanen\\anaconda3\\envs\\networkscience\\lib\\site-packages\\numpy\\core\\_asarray.py:85: ComplexWarning: Casting complex values to real discards the imaginary part\n",
      "  return array(a, dtype, copy=False, order=order)\n"
     ]
    }
   ],
   "source": [
    "plt.figure(1)\n",
    "plt.plot(timevariable, four)\n",
    "plt.show()"
   ]
  },
  {
   "cell_type": "code",
   "execution_count": null,
   "metadata": {},
   "outputs": [],
   "source": []
  },
  {
   "cell_type": "code",
   "execution_count": 33,
   "metadata": {},
   "outputs": [],
   "source": [
    "# This is a macOS command and requires homebrew to be installed.\n",
    "# On windows/linux make sure to have ffmpeg installed before running this cell\n",
    "# https://ffmpeg.org/\n",
    "# !brew install ffmpeg\n",
    "\n",
    "#from matplotlib.animation import writers\n",
    "#writers.reset_available_writers()\n",
    "\n",
    "#anim.save('laOla.mp4', writer=\"ffmpeg\", fps=30)"
   ]
  },
  {
   "cell_type": "code",
   "execution_count": null,
   "metadata": {},
   "outputs": [],
   "source": []
  }
 ],
 "metadata": {
  "kernelspec": {
   "display_name": "Python 3",
   "language": "python",
   "name": "python3"
  },
  "language_info": {
   "codemirror_mode": {
    "name": "ipython",
    "version": 3
   },
   "file_extension": ".py",
   "mimetype": "text/x-python",
   "name": "python",
   "nbconvert_exporter": "python",
   "pygments_lexer": "ipython3",
   "version": "3.7.6"
  }
 },
 "nbformat": 4,
 "nbformat_minor": 4
}
