{
 "cells": [
  {
   "cell_type": "code",
   "execution_count": 1,
   "metadata": {},
   "outputs": [],
   "source": [
    "# Make sure that you have the following installed on your machine to view interactive plots in jupyter lab\n",
    "# https://github.com/matplotlib/ipympl#installation\n",
    "# run \n",
    "#pip install ipympl\n",
    "#jupyter labextension install @jupyter-widgets/jupyterlab-manager\n",
    "#jupyter lab build"
   ]
  },
  {
   "cell_type": "code",
   "execution_count": 2,
   "metadata": {},
   "outputs": [],
   "source": [
    "%matplotlib inline"
   ]
  },
  {
   "cell_type": "code",
   "execution_count": 3,
   "metadata": {},
   "outputs": [],
   "source": [
    "import math as m\n",
    "import numpy as np\n",
    "import matplotlib.pyplot as plt\n",
    "import matplotlib.animation as animation"
   ]
  },
  {
   "cell_type": "code",
   "execution_count": 4,
   "metadata": {},
   "outputs": [],
   "source": [
    "def calculate_weights(rows, cols, agents, R):\n",
    "\n",
    "    # for each agent store the distances to all other nodes\n",
    "    distances = np.zeros((rows, cols, rows, cols))\n",
    "\n",
    "    for i1, agent1 in np.ndenumerate(agents):\n",
    "        x_coord_self = i1[1]\n",
    "        y_coord_self = i1[0]\n",
    "\n",
    "        for i2, agent2 in np.ndenumerate(agents):\n",
    "            x_coord = i2[1]\n",
    "            y_coord = i2[0]\n",
    "\n",
    "            distance = np.sqrt((x_coord - x_coord_self)**2 + (y_coord - y_coord_self)**2)\n",
    "            distances[y_coord_self][x_coord_self][y_coord][x_coord] = distance\n",
    "    \n",
    "    #print(distances[2][2])\n",
    "\n",
    "\n",
    "\n",
    "    # for each agent store the angle to all of its neighbors\n",
    "    angles = np.zeros((rows, cols, rows, cols))\n",
    "\n",
    "    for i1, agent1 in np.ndenumerate(agents):\n",
    "        x_coord_self = i1[1]\n",
    "        y_coord_self = i1[0]\n",
    "\n",
    "        for i2, agent2 in np.ndenumerate(agents):\n",
    "            x_coord = i2[1]\n",
    "            y_coord = i2[0]\n",
    "\n",
    "            vec_1 = (1, 0)\n",
    "            vec_2 = (x_coord - x_coord_self, y_coord - y_coord_self)\n",
    "\n",
    "            c = np.dot(vec_1, vec_2)/np.linalg.norm(vec_1)/np.linalg.norm(vec_2) # -> cosine of the angle\n",
    "            angle = np.arccos(np.clip(c, -1, 1)) # if you really want the angle\n",
    "\n",
    "            angles[y_coord_self][x_coord_self][y_coord][x_coord] = angle\n",
    "    \n",
    "    #print(angles[2][2])\n",
    "\n",
    "\n",
    "\n",
    "    # for each agent store the impact (weight) that all other nodes have on it.\n",
    "    weights = np.zeros((rows, cols, rows, cols))\n",
    "\n",
    "    for i1, agent1 in np.ndenumerate(agents):\n",
    "        x_coord_self = i1[1]\n",
    "        y_coord_self = i1[0]\n",
    "\n",
    "        for i2, agent2 in np.ndenumerate(agents):\n",
    "            x_coord = i2[1]\n",
    "            y_coord = i2[0]\n",
    "\n",
    "            distance = distances[y_coord_self][x_coord_self][y_coord][x_coord]\n",
    "            angle = angles[y_coord_self][x_coord_self][y_coord][x_coord]\n",
    "\n",
    "            weight = np.exp(- distance / R) * (1 + w + (1 - w) * np.cos(np.pi - angle))\n",
    "\n",
    "            if distance > 3*R or distance < 0:\n",
    "                weight = 0\n",
    "\n",
    "            weights[y_coord_self][x_coord_self][y_coord][x_coord] = weight\n",
    "\n",
    "        # normalize the weights so that the sum is equal to 1\n",
    "        # before we can sum up all the weights for each agent, we have to make sure that there is no more nan in the data. nan was always the agent in focus, so it should be 0 that the agent does not influence himself.\n",
    "        weights[np.isnan(weights)] = 0\n",
    "        # K is normalizing factor\n",
    "        K = np.sum(weights[y_coord_self][x_coord_self])\n",
    "        weights[y_coord_self][x_coord_self] = np.divide(weights[y_coord_self][x_coord_self], K)\n",
    "        \n",
    "    #print(weights[2][2])\n",
    "    \n",
    "    return weights\n"
   ]
  },
  {
   "cell_type": "code",
   "execution_count": 5,
   "metadata": {},
   "outputs": [],
   "source": [
    "def set_next_state(agents, weights):\n",
    "    \n",
    "    # loop over all agents and calcualte the weighted amount of people in active state that impact this agent\n",
    "    for i1, agent1 in np.ndenumerate(agents):\n",
    "        \n",
    "        x_coord_self = i1[1]\n",
    "        y_coord_self = i1[0]\n",
    "        \n",
    "        weights_agents = weights[y_coord_self, x_coord_self]\n",
    "    \n",
    "        state = agent1['state']\n",
    "        threshold = agent1['threshold']\n",
    "        \n",
    "        if state == 1:\n",
    "            if np.random.random() < p_1_2:\n",
    "                # active state -> refracter state\n",
    "                agent1['next_state'] = 2\n",
    "        \n",
    "        elif state == 2:\n",
    "            if np.random.random() < p_2_0:\n",
    "                # refracter state -> inactive state\n",
    "                agent1['next_state'] = 0\n",
    "        \n",
    "        else:\n",
    "            # current state: 0 (inactive)\n",
    "            # calculate the probability that he becomes active\n",
    "            active_agents_weight = 0\n",
    "            \n",
    "            for i2, agent2 in np.ndenumerate(agents):\n",
    "                x_coord = i2[1]\n",
    "                y_coord = i2[0]\n",
    "                \n",
    "                # sum over all the agents in the radius that have an influence on the agent in question\n",
    "                if agent2['state'] == 1:\n",
    "                    weight = weights_agents[y_coord, x_coord]\n",
    "                    active_agents_weight += weight\n",
    "        \n",
    "            \n",
    "            if active_agents_weight > threshold:\n",
    "                # update agent to be in active state\n",
    "                agent1['next_state'] = 1\n",
    "\n",
    "                \n",
    "def update_state(agents):\n",
    "    for i, agent in np.ndenumerate(agents):\n",
    "        agent['state'] = agent['next_state']\n",
    "\n",
    "        \n",
    "def run_simulation(agents, weights, rows, cols, threshold, p_1_2, p_2_0, size_triggering_group, time_steps):\n",
    "    \n",
    "    res_aggregate_total = []\n",
    "    res_state_only_total = []\n",
    "\n",
    "    # initialise thresholds and states\n",
    "    for i in range(rows):\n",
    "        for j in range(cols):\n",
    "            agents[i][j]['state'] = 0\n",
    "            agents[i][j]['next_state'] = 0\n",
    "            agents[i][j]['threshold'] = np.random.uniform(threshold - 0.05, threshold + 0.05)\n",
    "\n",
    "    \n",
    "    n = int(np.sqrt(size_triggering_group))    \n",
    "    for i in range(n):\n",
    "        for j in range(n):\n",
    "            agents[i + (int((rows - n) / 2))][j]['state'] = 1\n",
    "            \n",
    "            \n",
    "    for i in range(time_steps):\n",
    "        res_aggregate = np.zeros(cols)\n",
    "        res_state_only = np.zeros((rows, cols))\n",
    "        \n",
    "        # sum all cols up\n",
    "        for index, agent in np.ndenumerate(agents):\n",
    "            y_coord = index[0]\n",
    "            x_coord = index[1]\n",
    "            state = agent['state']\n",
    "            \n",
    "            res_state_only[y_coord][x_coord] = state\n",
    "            \n",
    "            if state == 1:\n",
    "                res_aggregate[x_coord] += 1\n",
    "                \n",
    "        set_next_state(agents, weights)\n",
    "        \n",
    "        # update all agents synchronously\n",
    "        update_state(agents)\n",
    "        \n",
    "        res_aggregate_total.append(res_aggregate)\n",
    "        res_state_only_total.append(res_state_only)\n",
    "\n",
    "    \n",
    "    return res_aggregate_total, res_state_only_total\n",
    "    "
   ]
  },
  {
   "cell_type": "code",
   "execution_count": 6,
   "metadata": {},
   "outputs": [
    {
     "name": "stderr",
     "output_type": "stream",
     "text": [
      "<ipython-input-4-019751bafb03>:35: RuntimeWarning: invalid value encountered in double_scalars\n",
      "  c = np.dot(vec_1, vec_2)/np.linalg.norm(vec_1)/np.linalg.norm(vec_2) # -> cosine of the angle\n"
     ]
    }
   ],
   "source": [
    "rows = 25\n",
    "cols = 75\n",
    "\n",
    "R = 2\n",
    "# factor of how much more people to the right of a person have an influence compared to the people on the left\n",
    "w = 0.25\n",
    "\n",
    "# each agent has one the following states\n",
    "# 0: inactive\n",
    "# 1: active\n",
    "# 2: refracter\n",
    "agents = np.zeros((rows, cols), dtype=[('state', np.int), ('next_state', np.int), ('threshold', np.float)])\n",
    "# weights can be pre calculated as they won't change during simulation\n",
    "weights = calculate_weights(rows, cols, agents, R)"
   ]
  },
  {
   "cell_type": "code",
   "execution_count": 7,
   "metadata": {},
   "outputs": [
    {
     "data": {
      "image/png": "[encoded data removed]",
      "text/plain": [
       "<Figure size 432x288 with 2 Axes>"
      ]
     },
     "metadata": {
      "needs_background": "light"
     },
     "output_type": "display_data"
    }
   ],
   "source": [
    "threshold = .24\n",
    "# probability of changing from active state to refracter\n",
    "p_1_2 = .4\n",
    "# probability of changing from refracter state to inactive\n",
    "p_2_0 = .3\n",
    "# fraction of people on the two most left columns that intitiate the wave\n",
    "size_triggering_group = 49\n",
    "\n",
    "time_steps = 30\n",
    "\n",
    "res_row_aggregated, res_states_only = run_simulation(agents, weights, rows, cols, threshold, p_1_2, p_2_0, size_triggering_group, time_steps)\n",
    "\n",
    "fig = plt.figure(0)\n",
    "ax = fig.add_subplot(111)\n",
    "cax = ax.matshow(res_states_only[1])\n",
    "fig.colorbar(cax)\n",
    "\n",
    "# animation function.  This is called sequentially\n",
    "def animate(i):\n",
    "    cax.set_data(res_states_only[i])\n",
    "    return cax\n",
    "\n",
    "# call the animator.  \n",
    "# blit=True means only re-draw the parts that have changed.\n",
    "anim = animation.FuncAnimation(fig, animate, frames=time_steps)\n"
   ]
  },
  {
   "cell_type": "code",
   "execution_count": 8,
   "metadata": {},
   "outputs": [],
   "source": [
    "# This is a macOS command and requires homebrew to be installed.\n",
    "# On windows/linux make sure to have ffmpeg installed before running this cell\n",
    "# https://ffmpeg.org/\n",
    "# !brew install ffmpeg\n",
    "\n",
    "from matplotlib.animation import writers\n",
    "writers.reset_available_writers()\n",
    "\n",
    "anim.save('laOla.mp4', writer=\"ffmpeg\", fps=5)"
   ]
  },
  {
   "cell_type": "code",
   "execution_count": 9,
   "metadata": {},
   "outputs": [],
   "source": [
    "def get_index(value,matrix):\n",
    "    for i in range(len(matrix)):\n",
    "        for j in range(len(matrix[0])):\n",
    "            if value == matrix[j][i]:\n",
    "                return (j,i)\n",
    "\n",
    "\n",
    "def findabsoluteMaxofft2(matrix):\n",
    "    four_matrix = np.fft.fft2(matrix)\n",
    "    np.save('four_matrix', four_matrix)\n",
    "    absolute_four = np.absolute(four_matrix)\n",
    "    np.save('four_matrix_absolute', absolute_four)\n",
    "    \n",
    "    np.save('results_rows_aggregated', res_row_aggregated)\n",
    "    \n",
    "    max_value = np.max(four_matrix)\n",
    "    position = get_index(max_value, four_matrix)    \n",
    "    \n",
    "    return max_value, position"
   ]
  },
  {
   "cell_type": "code",
   "execution_count": 10,
   "metadata": {},
   "outputs": [
    {
     "name": "stdout",
     "output_type": "stream",
     "text": [
      "(3226+0j)\n"
     ]
    }
   ],
   "source": [
    "results = findabsoluteMaxofft2(res_row_aggregated)\n",
    "max_value = results[0]\n",
    "print(max_value)"
   ]
  },
  {
   "cell_type": "code",
   "execution_count": 11,
   "metadata": {},
   "outputs": [
    {
     "name": "stdout",
     "output_type": "stream",
     "text": [
      "(0, 0)\n"
     ]
    }
   ],
   "source": [
    "position = results[1]\n",
    "print(position)"
   ]
  },
  {
   "cell_type": "code",
   "execution_count": 12,
   "metadata": {},
   "outputs": [],
   "source": [
    "#plt.figure(1)\n",
    "#plt.plot(timevariable, max_values)\n",
    "#plt.show()"
   ]
  },
  {
   "cell_type": "code",
   "execution_count": 13,
   "metadata": {},
   "outputs": [
    {
     "name": "stdout",
     "output_type": "stream",
     "text": [
      "[[-30.  -29.5 -29.  ...  28.5  29.   29.5]\n",
      " [-30.  -29.5 -29.  ...  28.5  29.   29.5]\n",
      " [-30.  -29.5 -29.  ...  28.5  29.   29.5]\n",
      " ...\n",
      " [-30.  -29.5 -29.  ...  28.5  29.   29.5]\n",
      " [-30.  -29.5 -29.  ...  28.5  29.   29.5]\n",
      " [-30.  -29.5 -29.  ...  28.5  29.   29.5]]\n",
      "[[-30.  -30.  -30.  ... -30.  -30.  -30. ]\n",
      " [-29.5 -29.5 -29.5 ... -29.5 -29.5 -29.5]\n",
      " [-29.  -29.  -29.  ... -29.  -29.  -29. ]\n",
      " ...\n",
      " [ 28.5  28.5  28.5 ...  28.5  28.5  28.5]\n",
      " [ 29.   29.   29.  ...  29.   29.   29. ]\n",
      " [ 29.5  29.5  29.5 ...  29.5  29.5  29.5]]\n",
      "[[-0.00982064 -0.0113957  -0.01319036 ... -0.01522953 -0.01319036\n",
      "  -0.0113957 ]\n",
      " [-0.0113957  -0.01322338 -0.01530587 ... -0.01767209 -0.01530587\n",
      "  -0.01322338]\n",
      " [-0.01319036 -0.01530587 -0.01771632 ... -0.02045518 -0.01771632\n",
      "  -0.01530587]\n",
      " ...\n",
      " [-0.01200234 -0.01414685 -0.01660867 ...  0.02918791  0.03019517\n",
      "   0.03085725]\n",
      " [-0.01097235 -0.01288301 -0.01507265 ...  0.01583738  0.01709512\n",
      "   0.01804782]\n",
      " [-0.00988645 -0.01157475 -0.01350698 ...  0.00702321  0.0083816\n",
      "   0.00947216]]\n"
     ]
    },
    {
     "data": {
      "image/png": "[encoded data removed]",
      "text/plain": [
       "<Figure size 432x288 with 1 Axes>"
      ]
     },
     "metadata": {
      "needs_background": "light"
     },
     "output_type": "display_data"
    }
   ],
   "source": [
    "import matplotlib.pyplot as plt\n",
    "# importing modules \n",
    "from mpl_toolkits.mplot3d import axes3d \n",
    "from matplotlib import pyplot \n",
    "\n",
    "# creating the visualiztion \n",
    "fig = pyplot.figure() \n",
    "wf = fig.add_subplot(111, projection='3d') \n",
    "x, y, z = axes3d.get_test_data(0.05)\n",
    "print(x)\n",
    "print(y)\n",
    "print(z)\n",
    "wf.plot_wireframe(x,y,z, rstride=10, cstride=10) \n",
    "\n",
    "# displaying the visualization \n",
    "wf.set_title('Example 1') \n",
    "pyplot.show() \n"
   ]
  }
 ],
 "metadata": {
  "kernelspec": {
   "display_name": "Python 3",
   "language": "python",
   "name": "python3"
  },
  "language_info": {
   "codemirror_mode": {
    "name": "ipython",
    "version": 3
   },
   "file_extension": ".py",
   "mimetype": "text/x-python",
   "name": "python",
   "nbconvert_exporter": "python",
   "pygments_lexer": "ipython3",
   "version": "3.8.2"
  }
 },
 "nbformat": 4,
 "nbformat_minor": 4
}
